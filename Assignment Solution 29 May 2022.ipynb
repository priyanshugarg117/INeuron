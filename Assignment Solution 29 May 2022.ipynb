{
 "cells": [
  {
   "cell_type": "markdown",
   "id": "49411785",
   "metadata": {},
   "source": [
    "Q1: \n",
    "ineuron\n",
    "ineuron ineuron\n",
    "ineuron ineuron ineuron\n",
    "ineuron ineuron ineuron ineuron"
   ]
  },
  {
   "cell_type": "code",
   "execution_count": 11,
   "id": "373e4ce5",
   "metadata": {},
   "outputs": [
    {
     "name": "stdout",
     "output_type": "stream",
     "text": [
      "ineuron  \n",
      "ineuron ineuron  \n",
      "ineuron ineuron ineuron  \n",
      "ineuron ineuron ineuron ineuron  \n"
     ]
    }
   ],
   "source": [
    "n = 0\n",
    "for i in range(1,5,1):\n",
    "    if i >= n:\n",
    "        print(\"ineuron \"*i, end = \" \")\n",
    "        n = n + 1\n",
    "    print()\n",
    "    "
   ]
  },
  {
   "cell_type": "markdown",
   "id": "7fd664bc",
   "metadata": {},
   "source": [
    "Q2: ......."
   ]
  },
  {
   "cell_type": "code",
   "execution_count": null,
   "id": "4e963a6c",
   "metadata": {},
   "outputs": [],
   "source": []
  },
  {
   "cell_type": "code",
   "execution_count": 2,
   "id": "0f96a8fb",
   "metadata": {},
   "outputs": [],
   "source": [
    "l = [[1,2,3,4], (2,3,4,5,6,),(3,4,5,6,7), set([23,4,5,45,4,4,5,45,45,4,5]), {\"k1\":\"sudh\", \"k2\":\"ineuron\", \"k3\":\"kumar\", 3:6,7:8}, [\"ineuron\", \"data science\"]]"
   ]
  },
  {
   "cell_type": "markdown",
   "id": "ca3f8490",
   "metadata": {},
   "source": [
    "Q3:all list"
   ]
  },
  {
   "cell_type": "code",
   "execution_count": 3,
   "id": "a02c98c3",
   "metadata": {},
   "outputs": [
    {
     "name": "stdout",
     "output_type": "stream",
     "text": [
      "[1, 2, 3, 4]\n",
      "['ineuron', 'data science']\n"
     ]
    }
   ],
   "source": [
    "for i in l:\n",
    "    if type(i) == list:\n",
    "        print(i)"
   ]
  },
  {
   "cell_type": "markdown",
   "id": "2f6f32d4",
   "metadata": {},
   "source": [
    "q4:dict entity"
   ]
  },
  {
   "cell_type": "code",
   "execution_count": 4,
   "id": "2e4bd60b",
   "metadata": {},
   "outputs": [
    {
     "name": "stdout",
     "output_type": "stream",
     "text": [
      "{'k1': 'sudh', 'k2': 'ineuron', 'k3': 'kumar', 3: 6, 7: 8}\n"
     ]
    }
   ],
   "source": [
    "for j in l:\n",
    "    if type(j) == dict:\n",
    "        print(j)"
   ]
  },
  {
   "cell_type": "markdown",
   "id": "f0694eca",
   "metadata": {},
   "source": [
    "Q5: tuple "
   ]
  },
  {
   "cell_type": "code",
   "execution_count": 5,
   "id": "5ca1644f",
   "metadata": {},
   "outputs": [
    {
     "name": "stdout",
     "output_type": "stream",
     "text": [
      "(2, 3, 4, 5, 6)\n",
      "(3, 4, 5, 6, 7)\n"
     ]
    }
   ],
   "source": [
    "for j in l:\n",
    "    if type(j) == tuple:\n",
    "        print(j)"
   ]
  },
  {
   "cell_type": "markdown",
   "id": "28690cc2",
   "metadata": {},
   "source": [
    "q6:all numberical data"
   ]
  },
  {
   "cell_type": "code",
   "execution_count": 6,
   "id": "9b6821a3",
   "metadata": {},
   "outputs": [
    {
     "data": {
      "text/plain": [
       "[[1, 2, 3, 4],\n",
       " (2, 3, 4, 5, 6),\n",
       " (3, 4, 5, 6, 7),\n",
       " {4, 5, 23, 45},\n",
       " {'k1': 'sudh', 'k2': 'ineuron', 'k3': 'kumar', 3: 6, 7: 8},\n",
       " ['ineuron', 'data science']]"
      ]
     },
     "execution_count": 6,
     "metadata": {},
     "output_type": "execute_result"
    }
   ],
   "source": [
    "l"
   ]
  },
  {
   "cell_type": "code",
   "execution_count": 7,
   "id": "9298b798",
   "metadata": {},
   "outputs": [
    {
     "name": "stdout",
     "output_type": "stream",
     "text": [
      "1\n",
      "2\n",
      "3\n",
      "4\n",
      "2\n",
      "3\n",
      "4\n",
      "5\n",
      "6\n",
      "3\n",
      "4\n",
      "5\n",
      "6\n",
      "7\n",
      "45\n",
      "4\n",
      "5\n",
      "23\n",
      "3\n",
      "6\n",
      "7\n",
      "8\n"
     ]
    }
   ],
   "source": [
    "for i in l:\n",
    "    if type(i) == list or type(i) == tuple:\n",
    "        for j in range(len(i)):\n",
    "            if type(i[j]) == int:\n",
    "                print(i[j])\n",
    "    elif type(i) == set:\n",
    "        for k in i:\n",
    "            if type(k) == int:\n",
    "                print(k)\n",
    "    elif type(i) == dict:\n",
    "        for k,v in i.items():\n",
    "            if type(k) == int or type(v) == int:\n",
    "                print(k)\n",
    "                print(v)\n",
    "    else:\n",
    "        pass"
   ]
  },
  {
   "cell_type": "code",
   "execution_count": null,
   "id": "b1182c49",
   "metadata": {},
   "outputs": [],
   "source": [
    "Q7: summation of all numeric data"
   ]
  },
  {
   "cell_type": "code",
   "execution_count": 9,
   "id": "812e6f85",
   "metadata": {},
   "outputs": [
    {
     "name": "stdout",
     "output_type": "stream",
     "text": [
      "156\n"
     ]
    }
   ],
   "source": [
    "add_list_tuple = []\n",
    "add_set = []\n",
    "add_dict = []\n",
    "for i in l:\n",
    "    if type(i) == list or type(i) == tuple:\n",
    "        for j in range(len(i)):\n",
    "            if type(i[j]) == int:\n",
    "                add_list_tuple.append(i[j])\n",
    "    elif type(i) == set:\n",
    "        for k in i:\n",
    "            if type(k) == int:\n",
    "                add_set.append(k)\n",
    "    elif type(i) == dict:\n",
    "        for k,v in i.items():\n",
    "            if type(k) == int or type(v) == int:\n",
    "                add_dict.append(k)\n",
    "                add_dict.append(v)\n",
    "    else:\n",
    "        pass\n",
    "sum1 = sum(add_list_tuple)\n",
    "sum2 = sum(add_set)\n",
    "sum3 = sum(add_dict)\n",
    "print(sum1+sum2+sum3)"
   ]
  },
  {
   "cell_type": "code",
   "execution_count": 10,
   "id": "80223a60",
   "metadata": {},
   "outputs": [
    {
     "data": {
      "text/plain": [
       "[[1, 2, 3, 4],\n",
       " (2, 3, 4, 5, 6),\n",
       " (3, 4, 5, 6, 7),\n",
       " {4, 5, 23, 45},\n",
       " {'k1': 'sudh', 'k2': 'ineuron', 'k3': 'kumar', 3: 6, 7: 8},\n",
       " ['ineuron', 'data science']]"
      ]
     },
     "execution_count": 10,
     "metadata": {},
     "output_type": "execute_result"
    }
   ],
   "source": [
    "l"
   ]
  },
  {
   "cell_type": "markdown",
   "id": "40024f5d",
   "metadata": {},
   "source": [
    "Q8: filter out all odd data"
   ]
  },
  {
   "cell_type": "code",
   "execution_count": 17,
   "id": "8a6ca7a2",
   "metadata": {},
   "outputs": [
    {
     "data": {
      "text/plain": [
       "[1, 3]"
      ]
     },
     "execution_count": 17,
     "metadata": {},
     "output_type": "execute_result"
    }
   ],
   "source": [
    "odd = []\n",
    "for i in l:\n",
    "    if type(i) == list:\n",
    "        for j in range(len(i)):\n",
    "            if type(i[j])==int:\n",
    "                if i[j]%2==0:\n",
    "                    pass\n",
    "                else:\n",
    "                    odd.append(i[j])\n",
    "odd\n",
    "\n"
   ]
  },
  {
   "cell_type": "markdown",
   "id": "db0f094a",
   "metadata": {},
   "source": [
    "Q9: extract \"ineuron\" from data\n",
    "    "
   ]
  },
  {
   "cell_type": "code",
   "execution_count": 19,
   "id": "04d102fd",
   "metadata": {},
   "outputs": [
    {
     "name": "stdout",
     "output_type": "stream",
     "text": [
      "ineuron\n",
      "ineuron\n"
     ]
    }
   ],
   "source": [
    "for i in l:\n",
    "    if type(i)==list or type(i)==tuple:\n",
    "        for j in range(len(i)):\n",
    "            if i[j] == \"ineuron\":\n",
    "                print(i[j])\n",
    "            else:\n",
    "                pass\n",
    "    if type(i) == dict:\n",
    "        for k,v in i.items():\n",
    "            if k == \"ineuron\":\n",
    "                print(k)\n",
    "            if v == \"ineuron\":\n",
    "                print(v)"
   ]
  },
  {
   "cell_type": "markdown",
   "id": "acdc662b",
   "metadata": {},
   "source": [
    "Q10: number of occurances of all data"
   ]
  },
  {
   "cell_type": "code",
   "execution_count": 25,
   "id": "5358b3cd",
   "metadata": {},
   "outputs": [
    {
     "name": "stdout",
     "output_type": "stream",
     "text": [
      "ineuron : 2\n",
      "1 : 1\n",
      "2 : 2\n",
      "3 : 4\n",
      "4 : 4\n",
      "5 : 3\n",
      "6 : 3\n",
      "7 : 2\n",
      "k3 : 1\n",
      "sudh : 1\n",
      "8 : 1\n",
      "kumar : 1\n",
      "k2 : 1\n",
      "45 : 1\n",
      "k1 : 1\n",
      "data science : 1\n",
      "23 : 1\n"
     ]
    }
   ],
   "source": [
    "l10A = []\n",
    "l10B = []\n",
    "l10C = []\n",
    "l10D = []\n",
    "for i in l:\n",
    "    if type(i)==list or type(i)==tuple or type(i)==set:\n",
    "        for j in i:\n",
    "            l10A.append(j)\n",
    "    if type(i) == dict:\n",
    "        for k, v in i.items():\n",
    "            l10B.append(k)\n",
    "            l10C.append(v)\n",
    "l10D = l10A+l10B+l10C\n",
    "for i in set(l10D):\n",
    "    print(i ,\":\", l10D.count(i))\n",
    "            "
   ]
  },
  {
   "cell_type": "code",
   "execution_count": 23,
   "id": "405adb4a",
   "metadata": {},
   "outputs": [
    {
     "data": {
      "text/plain": [
       "[[1, 2, 3, 4],\n",
       " (2, 3, 4, 5, 6),\n",
       " (3, 4, 5, 6, 7),\n",
       " {4, 5, 23, 45},\n",
       " {'k1': 'sudh', 'k2': 'ineuron', 'k3': 'kumar', 3: 6, 7: 8},\n",
       " ['ineuron', 'data science']]"
      ]
     },
     "execution_count": 23,
     "metadata": {},
     "output_type": "execute_result"
    }
   ],
   "source": [
    "l"
   ]
  },
  {
   "cell_type": "markdown",
   "id": "d30b70ed",
   "metadata": {},
   "source": [
    "Q11. number of key in dict element"
   ]
  },
  {
   "cell_type": "code",
   "execution_count": 27,
   "id": "bdb98622",
   "metadata": {},
   "outputs": [
    {
     "name": "stdout",
     "output_type": "stream",
     "text": [
      "count of keys in dict is  5\n"
     ]
    }
   ],
   "source": [
    "l11 = []\n",
    "for i in l:\n",
    "    if type(i) == dict:\n",
    "        for k,v in i.items():\n",
    "            l11.append(k)\n",
    "print(\"count of keys in dict is \", len(l11))            \n",
    "            \n",
    "            "
   ]
  },
  {
   "cell_type": "markdown",
   "id": "b1432375",
   "metadata": {},
   "source": [
    "Q12: filter string data"
   ]
  },
  {
   "cell_type": "code",
   "execution_count": 32,
   "id": "e3f0b2e2",
   "metadata": {},
   "outputs": [
    {
     "name": "stdout",
     "output_type": "stream",
     "text": [
      "k1\n",
      "sudh\n",
      "k2\n",
      "ineuron\n",
      "k3\n",
      "kumar\n",
      "ineuron\n",
      "data science\n"
     ]
    }
   ],
   "source": [
    "\n",
    "for i in l:\n",
    "    if type(i) == list or type(i) == tuple or type(i) == set:\n",
    "        for j in i:\n",
    "            if type(j) == str:\n",
    "                print(j)\n",
    "    if type(i) == dict:\n",
    "        for k, v in i.items():\n",
    "            if type(k) == str:\n",
    "                print(k)\n",
    "            if type(v) == str:\n",
    "                print(v)\n",
    "                "
   ]
  },
  {
   "cell_type": "code",
   "execution_count": null,
   "id": "0e2df4f3",
   "metadata": {},
   "outputs": [],
   "source": [
    "Q13: all alphanum"
   ]
  },
  {
   "cell_type": "code",
   "execution_count": 36,
   "id": "e18a7ec1",
   "metadata": {},
   "outputs": [
    {
     "name": "stdout",
     "output_type": "stream",
     "text": [
      "k1 : True\n",
      "sudh : True\n",
      "k2 : True\n",
      "ineuron : True\n",
      "k3 : True\n",
      "kumar : True\n",
      "ineuron : True\n",
      "data science : False\n"
     ]
    }
   ],
   "source": [
    "for i in l:\n",
    "    if type(i) == list or type(i) == tuple or type(i) == set:\n",
    "        for j in i:\n",
    "            if type(j) == str:\n",
    "                print (j, ':', j.isalnum())\n",
    "    if type(i) == dict:\n",
    "        for k,v in i.items():\n",
    "            if type(k) == str or type(v) == str:\n",
    "                print(k, ':', k.isalnum())\n",
    "                print(v, ':', v.isalnum())"
   ]
  },
  {
   "cell_type": "markdown",
   "id": "baf4db21",
   "metadata": {},
   "source": [
    "Q14: Try to find out multiplication of all numeric value in the individual collection inside dataset."
   ]
  },
  {
   "cell_type": "code",
   "execution_count": 49,
   "id": "acd8473f",
   "metadata": {},
   "outputs": [
    {
     "data": {
      "text/plain": [
       "[24, 720, 2520, 20700, 1008, 1]"
      ]
     },
     "execution_count": 49,
     "metadata": {},
     "output_type": "execute_result"
    }
   ],
   "source": [
    "l1=[]\n",
    "l2=[]\n",
    "l3=[]\n",
    "s1 = 1\n",
    "s2 = 1\n",
    "l14= []\n",
    "for i in l:\n",
    "    if type(i) == list or type(i) == tuple or type(i) == set:\n",
    "        for j in i:\n",
    "            if type(j) == int:\n",
    "                s1 = s1*j\n",
    "        l14.append(s1)\n",
    "        s1= 1\n",
    "        \n",
    "    if type(i) == dict:\n",
    "        for k,v in i.items():\n",
    "            if type(k) == int or type(v) == int:\n",
    "                s2 = s2*k\n",
    "                s2 = s2*v\n",
    "        l14.append(s2)\n",
    "l14\n"
   ]
  },
  {
   "cell_type": "code",
   "execution_count": 41,
   "id": "40f6b277",
   "metadata": {},
   "outputs": [
    {
     "data": {
      "text/plain": [
       "[[1, 2, 3, 4],\n",
       " (2, 3, 4, 5, 6),\n",
       " (3, 4, 5, 6, 7),\n",
       " {4, 5, 23, 45},\n",
       " {'k1': 'sudh', 'k2': 'ineuron', 'k3': 'kumar', 3: 6, 7: 8},\n",
       " ['ineuron', 'data science']]"
      ]
     },
     "execution_count": 41,
     "metadata": {},
     "output_type": "execute_result"
    }
   ],
   "source": [
    "l"
   ]
  },
  {
   "cell_type": "code",
   "execution_count": null,
   "id": "5459b8d1",
   "metadata": {},
   "outputs": [],
   "source": [
    "q15: #Try to unwrape all the values inside collection and create a flat List.\n"
   ]
  },
  {
   "cell_type": "code",
   "execution_count": 43,
   "id": "48017e49",
   "metadata": {},
   "outputs": [
    {
     "name": "stdout",
     "output_type": "stream",
     "text": [
      "[1, 2, 3, 4, 2, 3, 4, 5, 6, 3, 4, 5, 6, 7, 45, 4, 5, 23, 'ineuron', 'data science', 'k1', 'k2', 'k3', 3, 7, 'sudh', 'ineuron', 'kumar', 6, 8]\n"
     ]
    }
   ],
   "source": [
    "\n",
    "\n",
    "l1=[]\n",
    "l2=[]\n",
    "l3=[]\n",
    "for i in l:\n",
    "    if type(i) == list or type(i) == tuple or type(i) == set:\n",
    "        for j in i:\n",
    "            l1.append(j)\n",
    "    if type(i) == dict:\n",
    "        for k,v in i.items():\n",
    "            l2.append(k)\n",
    "            l3.append(v)\n",
    "l4=l1+l2+l3\n",
    "print(l4)"
   ]
  },
  {
   "cell_type": "code",
   "execution_count": null,
   "id": "46f7e1c3",
   "metadata": {},
   "outputs": [],
   "source": []
  }
 ],
 "metadata": {
  "kernelspec": {
   "display_name": "Python 3 (ipykernel)",
   "language": "python",
   "name": "python3"
  },
  "language_info": {
   "codemirror_mode": {
    "name": "ipython",
    "version": 3
   },
   "file_extension": ".py",
   "mimetype": "text/x-python",
   "name": "python",
   "nbconvert_exporter": "python",
   "pygments_lexer": "ipython3",
   "version": "3.9.7"
  }
 },
 "nbformat": 4,
 "nbformat_minor": 5
}
